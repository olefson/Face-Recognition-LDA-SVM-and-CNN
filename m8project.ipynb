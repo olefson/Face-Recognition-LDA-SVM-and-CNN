{
 "cells": [
  {
   "cell_type": "markdown",
   "id": "897b9543-4275-417c-8f35-879379f897e9",
   "metadata": {},
   "source": [
    "# M8 Project\n",
    "\n",
    "In this project you will compare the performance of LDA, SVM, and CNN for face recognition. You will use the Olivetti faces dataset, which contains 400 64x64 images from 40 different subjects, and your task is to discover the identity of a given face image. Some of these images are illustrated below.\n",
    "\n",
    "<img src=\"m8project.png\" width=\"400\"/>\n",
    "\n",
    "An initial version of the code with the problem specification (below) and a report template are available (at the bottom). Deliverables are the final code (non-functioning code is worth 0 points) and the comparison report.\n",
    "\n",
    "Solve the task above using:\n",
    "- LDA\n",
    "- SVM\n",
    "- CNN (40pts) - suggested architecture: LeNet-5\n",
    "\n",
    "Split the dataset so that the first 8 images per subject are used for training, and the last 2 images are used for testing. If you need a validation set, use part of your training data. For CNN:\n",
    "- Plot the loss and the accuracy for each training epoch (20pts)\n",
    "- Store the model with highest accuracy in the validation set (10pts)\n",
    "\n",
    "Compare the performance of LDA, SVM, and CNN in terms of:\n",
    "- Average F-Score (15pts)\n",
    "- Confusion matrix (15pts)"
   ]
  },
  {
   "cell_type": "markdown",
   "id": "2234bcfb-d702-43e8-a922-26b790557075",
   "metadata": {},
   "source": [
    "# Implementation\n",
    "\n",
    "You are free to change the code below as needed."
   ]
  },
  {
   "cell_type": "code",
   "execution_count": 1,
   "id": "d881f577-3977-4914-ab97-3814209e3f1b",
   "metadata": {},
   "outputs": [
    {
     "ename": "ModuleNotFoundError",
     "evalue": "No module named 'sklearn'",
     "output_type": "error",
     "traceback": [
      "\u001b[1;31m---------------------------------------------------------------------------\u001b[0m",
      "\u001b[1;31mModuleNotFoundError\u001b[0m                       Traceback (most recent call last)",
      "Cell \u001b[1;32mIn[1], line 1\u001b[0m\n\u001b[1;32m----> 1\u001b[0m \u001b[38;5;28;01mfrom\u001b[39;00m \u001b[38;5;21;01msklearn\u001b[39;00m\u001b[38;5;21;01m.\u001b[39;00m\u001b[38;5;21;01mdatasets\u001b[39;00m \u001b[38;5;28;01mimport\u001b[39;00m fetch_olivetti_faces\n\u001b[0;32m      2\u001b[0m \u001b[38;5;28;01mimport\u001b[39;00m \u001b[38;5;21;01mmatplotlib\u001b[39;00m\u001b[38;5;21;01m.\u001b[39;00m\u001b[38;5;21;01mpyplot\u001b[39;00m \u001b[38;5;28;01mas\u001b[39;00m \u001b[38;5;21;01mplt\u001b[39;00m\n\u001b[0;32m      3\u001b[0m \u001b[38;5;28;01mimport\u001b[39;00m \u001b[38;5;21;01mnumpy\u001b[39;00m \u001b[38;5;28;01mas\u001b[39;00m \u001b[38;5;21;01mnp\u001b[39;00m\n",
      "\u001b[1;31mModuleNotFoundError\u001b[0m: No module named 'sklearn'"
     ]
    }
   ],
   "source": [
    "from sklearn.datasets import fetch_olivetti_faces\n",
    "import matplotlib.pyplot as plt\n",
    "import numpy as np"
   ]
  },
  {
   "cell_type": "code",
   "execution_count": null,
   "id": "c2b20176-5987-43f3-b2d0-f0e4aac9c4c0",
   "metadata": {},
   "outputs": [],
   "source": [
    "# Get the dataset\n",
    "\n",
    "faces = fetch_olivetti_faces()\n",
    "\n",
    "_, img_height, img_width = faces.images.shape\n",
    "\n",
    "print(faces.images.shape)"
   ]
  },
  {
   "cell_type": "code",
   "execution_count": null,
   "id": "2a3639fc-5c7a-45dd-95bd-6a8f6d1fce07",
   "metadata": {},
   "outputs": [],
   "source": [
    "# Split the dataset\n",
    "\n",
    "N_IDENTITIES = len(np.unique(faces.target)) # how many different individuals are in the dataset\n",
    "GALLERY_SIZE = 8                            # use the first GALLERY_SIZE images per individual for training, the rest for testing\n",
    "\n",
    "gallery_indices = []\n",
    "probe_indices = []\n",
    "for i in range(N_IDENTITIES):\n",
    "    indices = list(np.where(faces.target == i)[0])\n",
    "    gallery_indices += indices[:GALLERY_SIZE]\n",
    "    probe_indices += indices[GALLERY_SIZE:]\n",
    "\n",
    "x_train = faces.images[gallery_indices].reshape(-1, img_height*img_width) # vectorize train images\n",
    "y_train = faces.target[gallery_indices]\n",
    "x_test = faces.images[probe_indices].reshape(-1, img_height*img_width)    # vectorize test images\n",
    "y_test = faces.target[probe_indices]\n",
    "\n",
    "print(x_train.shape, x_test.shape)"
   ]
  },
  {
   "cell_type": "code",
   "execution_count": null,
   "id": "20cf327e-543f-4b96-941f-047778ef2874",
   "metadata": {},
   "outputs": [],
   "source": [
    "# Visualize image sets\n",
    "def show_images(imgs, num_rows, num_cols):\n",
    "    assert len(imgs) == num_rows*num_cols\n",
    "\n",
    "    full = None\n",
    "    for i in range(num_rows):\n",
    "        row = None\n",
    "        for j in range(num_cols):\n",
    "            if row is None:\n",
    "                row = imgs[i*num_cols+j].reshape(img_height, img_width)*255.0\n",
    "            else:\n",
    "                row = np.concatenate((row, imgs[i*num_cols+j].reshape(img_height, img_width)*255.0), axis=1)\n",
    "        if full is None:\n",
    "            full = row\n",
    "        else:\n",
    "            full = np.concatenate((full, row), axis=0)\n",
    "\n",
    "    f = plt.figure(figsize=(num_cols, num_rows))\n",
    "    plt.imshow(full, cmap='gray')\n",
    "    plt.axis('off')\n",
    "    plt.show()\n",
    "\n",
    "print('TRAINING')\n",
    "show_images(x_train, N_IDENTITIES, GALLERY_SIZE)\n",
    "print('TESTING')\n",
    "show_images(x_test, N_IDENTITIES, 10 - GALLERY_SIZE)"
   ]
  },
  {
   "cell_type": "markdown",
   "id": "e24fba25-a31f-4e09-a29d-e26f2fb624b9",
   "metadata": {},
   "source": [
    "# Report template\n",
    "\n",
    "## Experimental results\n",
    "\n",
    "Training description ... (plot the loss and the accuracy for each training epoch, specify which epoch was used for inference)\n",
    "\n",
    "Obtained results ...\n",
    "\n",
    "Analysis of the results ...\n",
    "\n",
    "Lorem ipsum dolor sit amet, consectetur adipiscing elit, sed do eiusmod tempor incididunt ut labore et dolore magna aliqua. Scelerisque eu ultrices vitae auctor eu augue. Tempor nec feugiat nisl pretium fusce. Sed cras ornare arcu dui vivamus arcu felis. Leo duis ut diam quam nulla porttitor massa. Lacus vestibulum sed arcu non odio euismod lacinia. Augue neque gravida in fermentum et sollicitudin ac orci. Habitant morbi tristique senectus et. Ut tellus elementum sagittis vitae et. Diam vulputate ut pharetra sit amet. Nisl nunc mi ipsum faucibus vitae aliquet nec ullamcorper sit. Nec ullamcorper sit amet risus nullam eget felis. Fringilla ut morbi tincidunt augue interdum velit euismod. Facilisis magna etiam tempor orci eu lobortis."
   ]
  },
  {
   "cell_type": "code",
   "execution_count": null,
   "id": "246b8f0d-a408-4193-8be6-b09267e91eb7",
   "metadata": {},
   "outputs": [],
   "source": []
  }
 ],
 "metadata": {
  "kernelspec": {
   "display_name": "Python 3 (ipykernel)",
   "language": "python",
   "name": "python3"
  },
  "language_info": {
   "codemirror_mode": {
    "name": "ipython",
    "version": 3
   },
   "file_extension": ".py",
   "mimetype": "text/x-python",
   "name": "python",
   "nbconvert_exporter": "python",
   "pygments_lexer": "ipython3",
   "version": "3.11.9"
  }
 },
 "nbformat": 4,
 "nbformat_minor": 5
}
